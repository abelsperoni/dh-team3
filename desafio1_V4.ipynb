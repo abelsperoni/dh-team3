{
 "cells": [
  {
   "cell_type": "code",
   "execution_count": 1,
   "metadata": {
    "colab": {},
    "colab_type": "code",
    "id": "jl9cR4aei0YS"
   },
   "outputs": [],
   "source": [
    "#pip install pandas-profiling[notebook,html]"
   ]
  },
  {
   "cell_type": "code",
   "execution_count": 2,
   "metadata": {
    "colab": {},
    "colab_type": "code",
    "id": "HCSg-oqid4WJ"
   },
   "outputs": [],
   "source": [
    "import numpy as np\n",
    "import pandas as pd\n",
    "#from pandas_profiling import ProfileReport"
   ]
  },
  {
   "cell_type": "code",
   "execution_count": 3,
   "metadata": {
    "colab": {},
    "colab_type": "code",
    "id": "1vw92Pn-i0Ya"
   },
   "outputs": [],
   "source": [
    "churn_df = pd.read_csv(r'WA_Fn-UseC_-Telco-Customer-Churn.csv')"
   ]
  },
  {
   "cell_type": "markdown",
   "metadata": {
    "colab_type": "text",
    "id": "tg9s8jjnd4Wb"
   },
   "source": [
    "# Comenzamos haciendo un analisis exploratorio univariado para detectar outliers, missing values y aspectos particulares de la distribución de cada variable"
   ]
  },
  {
   "cell_type": "code",
   "execution_count": 4,
   "metadata": {
    "colab": {
     "base_uri": "https://localhost:8080/",
     "height": 613
    },
    "colab_type": "code",
    "id": "5g-WZ8VDi0Yf",
    "outputId": "e79cd955-e02b-410c-d463-85df9cdcfb4b"
   },
   "outputs": [],
   "source": [
    "# profile = ProfileReport(churn_df, title='Pandas Profiling Report', html={'style':{'full_width':True}})\n",
    "# profile"
   ]
  },
  {
   "cell_type": "code",
   "execution_count": 5,
   "metadata": {
    "colab": {},
    "colab_type": "code",
    "id": "nN-0yIrbi0Yk"
   },
   "outputs": [],
   "source": [
    "# profile.to_file(r\"C:\\Users\\mportuese\\Documents\\MICA\\varios\\AI\\desafio1\\telco-customer-churn\\churn_df_inicial.html\")"
   ]
  },
  {
   "cell_type": "markdown",
   "metadata": {
    "colab_type": "text",
    "id": "-1Dqx_Xcd4W4"
   },
   "source": [
    "# Hay 21 variables: 13 categoricas, 6 booleanas y  con 7043 observaciones. Donde la variable target (churn) tiene una tasa de 26.5% (1869/7043)"
   ]
  },
  {
   "cell_type": "markdown",
   "metadata": {
    "colab_type": "text",
    "id": "U92I7AAed4W6"
   },
   "source": [
    "# No se detectaron valores faltantes ni outliers pero encontramos que hay información repetida en distintas variables como es el caso de la categoría \"no internet service\", por lo tanto, al momento de contruir variables booleanas tendremos que tenerlo en cuenta para no duplicar información\n",
    "Y que la variable TOTAL CHARGES esta definida como categorica ya que tiene espacios como valores posibles, sin embargo, es una variable continua."
   ]
  },
  {
   "cell_type": "code",
   "execution_count": 6,
   "metadata": {
    "colab": {
     "base_uri": "https://localhost:8080/",
     "height": 391
    },
    "colab_type": "code",
    "id": "aFQPzG0_d4W7",
    "outputId": "8381f1ed-18d9-405b-ee52-ea207df1d450"
   },
   "outputs": [
    {
     "data": {
      "text/plain": [
       "customerID           0\n",
       "gender               0\n",
       "SeniorCitizen        0\n",
       "Partner              0\n",
       "Dependents           0\n",
       "tenure               0\n",
       "PhoneService         0\n",
       "MultipleLines        0\n",
       "InternetService      0\n",
       "OnlineSecurity       0\n",
       "OnlineBackup         0\n",
       "DeviceProtection     0\n",
       "TechSupport          0\n",
       "StreamingTV          0\n",
       "StreamingMovies      0\n",
       "Contract             0\n",
       "PaperlessBilling     0\n",
       "PaymentMethod        0\n",
       "MonthlyCharges       0\n",
       "TotalCharges        11\n",
       "Churn                0\n",
       "dtype: int64"
      ]
     },
     "execution_count": 6,
     "metadata": {},
     "output_type": "execute_result"
    }
   ],
   "source": [
    "#Transformación de datos\n",
    "\n",
    "#Reemplazamos esos espacios con nulos\n",
    "\n",
    "churn_df['TotalCharges'] = churn_df[\"TotalCharges\"].replace(\" \",np.nan)#transformamos TOTAL CHARGES a FLOAT \n",
    "\n",
    "#si vuelvo a analizar la variable ahora existen valores nulos en la variable TOTALCHARGES\n",
    "churn_df.isnull().sum() "
   ]
  },
  {
   "cell_type": "code",
   "execution_count": 7,
   "metadata": {
    "colab": {},
    "colab_type": "code",
    "id": "DyWDKjppd4XK"
   },
   "outputs": [],
   "source": [
    "#Eliminamos lo casos nulos \n",
    "\n",
    "churn_df = churn_df[churn_df[\"TotalCharges\"].notnull()]\n",
    "churn_df = churn_df.reset_index()[churn_df.columns]\n",
    "\n",
    "#convierto la variable a numerica (float)\n",
    "\n",
    "churn_df[\"TotalCharges\"] = churn_df[\"TotalCharges\"].astype(float)"
   ]
  },
  {
   "cell_type": "code",
   "execution_count": 8,
   "metadata": {
    "colab": {},
    "colab_type": "code",
    "id": "vvYv8Vi-d4XQ"
   },
   "outputs": [],
   "source": [
    "#Continuación de tranformación de variables\n",
    "\n",
    "#Ya tenemos la variable si tiene servicio de telefono o no,\n",
    "#con lo cual podemos reemplazar en la variable MultipeLines la Categoria \"No phone service\" por \"No\"\n",
    "\n",
    "churn_df['MultipleLines']  = churn_df['MultipleLines'].replace({'No phone service' : 'No'})\n",
    "        "
   ]
  },
  {
   "cell_type": "code",
   "execution_count": 9,
   "metadata": {
    "colab": {},
    "colab_type": "code",
    "id": "7W1LhJvFd4XZ"
   },
   "outputs": [],
   "source": [
    "#Ya tenemos en InternetService la respuesta si el cliente no tiene el servicio,\n",
    "#con lo cual podemos reemplazar en todas las variables donde dice \"No internet service\" por \"No\"\n",
    "\n",
    "replace_cols = [ 'OnlineSecurity', 'OnlineBackup', 'DeviceProtection',\n",
    "                'TechSupport','StreamingTV', 'StreamingMovies']\n",
    "for i in replace_cols : \n",
    "    churn_df[i]  = churn_df[i].replace({'No internet service' : 'No'})\n",
    "    "
   ]
  },
  {
   "cell_type": "code",
   "execution_count": 10,
   "metadata": {
    "colab": {
     "base_uri": "https://localhost:8080/",
     "height": 630
    },
    "colab_type": "code",
    "id": "R9CVo8I7d4Xe",
    "outputId": "3f41c3e9-b1c6-4e08-cfb1-406853941054"
   },
   "outputs": [],
   "source": [
    "# #Si vuelvo a analizar las correlaciones entre las variables aparece una leve correlación entre TotalCharges y MonthlyCharges,\n",
    "# #y una alta correlacion entre tenure y TotalCharges\n",
    "\n",
    "# profile = ProfileReport(churn_df, title='Pandas Profiling Report', html={'style':{'full_width':True}})\n",
    "# profile"
   ]
  },
  {
   "cell_type": "code",
   "execution_count": 11,
   "metadata": {
    "colab": {},
    "colab_type": "code",
    "id": "QTfYRnwgd4Xr"
   },
   "outputs": [],
   "source": [
    "# Con las variables continuas genero derivadas categoricas utilizando los deciles de su distribución.\n",
    "# Si tuviera un nuevo dataset tendria que mantener los intervalos que definen los deciles definidos aqui\n",
    "# para crear estas variables derivadas --> churn_df['tenure'].quantile([.1,.2,.3,.4,.5,.6,.7,.8,.9])\n",
    "\n",
    "churn_df['tenure_d'] = pd.qcut(churn_df['tenure'], 10, labels=False)\n",
    "churn_df['MonthlyCharges_d'] = pd.qcut(churn_df['MonthlyCharges'], 10, labels=False)\n",
    "churn_df['TotalCharges_d'] = pd.qcut(churn_df['TotalCharges'], 10, labels=False)\n"
   ]
  },
  {
   "cell_type": "code",
   "execution_count": 12,
   "metadata": {
    "colab": {},
    "colab_type": "code",
    "id": "O3fDgbhud4X0"
   },
   "outputs": [],
   "source": [
    "#Paso a booleanas todas las variables categoricas\n",
    "\n",
    "#primero todas las que ya son booleanas y tienen valore \"yes/no\" a 1/0\n",
    "replace_cols = [ 'Partner','Dependents','PhoneService','MultipleLines','OnlineSecurity','OnlineBackup','DeviceProtection',\n",
    "                'TechSupport','StreamingTV', 'StreamingMovies','PaperlessBilling','Churn']\n",
    "for i in replace_cols : \n",
    "    churn_df[i]  = np.where(churn_df[i]=='Yes',1,0)"
   ]
  },
  {
   "cell_type": "code",
   "execution_count": 13,
   "metadata": {
    "colab": {},
    "colab_type": "code",
    "id": "t8jEjzyKd4X8"
   },
   "outputs": [],
   "source": [
    "#transformo la variable Gender en 0/1\n",
    "churn_df['gender']  = np.where(churn_df['gender']=='Female',1,0) "
   ]
  },
  {
   "cell_type": "code",
   "execution_count": 14,
   "metadata": {
    "colab": {
     "base_uri": "https://localhost:8080/",
     "height": 170
    },
    "colab_type": "code",
    "id": "Mso_otKCd4YB",
    "outputId": "34d0ca5b-e291-41f2-d253-fbf2db6fee53"
   },
   "outputs": [
    {
     "data": {
      "text/plain": [
       "(Churn               0     1\n",
       " InternetService            \n",
       " DSL              1957   459\n",
       " Fiber optic      1799  1297\n",
       " No               1407   113,\n",
       " Churn                   0         1\n",
       " InternetService                    \n",
       " DSL              0.810017  0.189983\n",
       " Fiber optic      0.581072  0.418928\n",
       " No               0.925658  0.074342)"
      ]
     },
     "execution_count": 14,
     "metadata": {},
     "output_type": "execute_result"
    }
   ],
   "source": [
    "#transformo la variable InternetService en dos booleanas\n",
    "#para ver que categorias genero, previamente analizo la tasa de churn para cada una\n",
    "pd.crosstab(churn_df.InternetService, churn_df.Churn), pd.crosstab(churn_df.InternetService, churn_df.Churn).apply(lambda r: r/r.sum(), axis=1)"
   ]
  },
  {
   "cell_type": "code",
   "execution_count": 15,
   "metadata": {
    "colab": {},
    "colab_type": "code",
    "id": "2X1AZuSpd4YJ"
   },
   "outputs": [],
   "source": [
    "#las categorias que mejor discriminan el churn seran las creadas\n",
    "churn_df['DSL']  = np.where(churn_df['InternetService']=='DSL',1,0)\n",
    "churn_df['NoInternetService']  = np.where(churn_df['InternetService']=='No',1,0)"
   ]
  },
  {
   "cell_type": "code",
   "execution_count": 16,
   "metadata": {
    "colab": {
     "base_uri": "https://localhost:8080/",
     "height": 170
    },
    "colab_type": "code",
    "id": "IiJuac4cd4YO",
    "outputId": "1702cf47-ff33-4de8-f712-ee15aa603a59"
   },
   "outputs": [
    {
     "data": {
      "text/plain": [
       "(Churn              0     1\n",
       " Contract                  \n",
       " Month-to-month  2220  1655\n",
       " One year        1306   166\n",
       " Two year        1637    48,\n",
       " Churn                  0         1\n",
       " Contract                          \n",
       " Month-to-month  0.572903  0.427097\n",
       " One year        0.887228  0.112772\n",
       " Two year        0.971513  0.028487)"
      ]
     },
     "execution_count": 16,
     "metadata": {},
     "output_type": "execute_result"
    }
   ],
   "source": [
    "#transformo la variable Contract en dos booleanas\n",
    "#para ver que categorias genero, previamente analizo la tasa de churn para cada una\n",
    "pd.crosstab(churn_df.Contract, churn_df.Churn), pd.crosstab(churn_df.Contract, churn_df.Churn).apply(lambda r: r/r.sum(), axis=1)"
   ]
  },
  {
   "cell_type": "code",
   "execution_count": 17,
   "metadata": {
    "colab": {},
    "colab_type": "code",
    "id": "H9J35_s-d4YU"
   },
   "outputs": [],
   "source": [
    "#las categorias que mejor discriminan el churn seran las creadas\n",
    "\n",
    "churn_df['OneyearContract']  = np.where(churn_df['Contract']=='One year',1,0)\n",
    "churn_df['TwoyearContract']  = np.where(churn_df['Contract']=='Two year',1,0)"
   ]
  },
  {
   "cell_type": "code",
   "execution_count": 18,
   "metadata": {
    "colab": {
     "base_uri": "https://localhost:8080/",
     "height": 221
    },
    "colab_type": "code",
    "id": "v9ecMeZhd4Yb",
    "outputId": "0acf7f81-1368-429e-e5b7-7d792a68c929"
   },
   "outputs": [
    {
     "data": {
      "text/plain": [
       "(Churn                         0     1\n",
       " PaymentMethod                        \n",
       " Bank transfer (automatic)  1284   258\n",
       " Credit card (automatic)    1289   232\n",
       " Electronic check           1294  1071\n",
       " Mailed check               1296   308,\n",
       " Churn                             0         1\n",
       " PaymentMethod                                \n",
       " Bank transfer (automatic)  0.832685  0.167315\n",
       " Credit card (automatic)    0.847469  0.152531\n",
       " Electronic check           0.547146  0.452854\n",
       " Mailed check               0.807980  0.192020)"
      ]
     },
     "execution_count": 18,
     "metadata": {},
     "output_type": "execute_result"
    }
   ],
   "source": [
    "#transformo la variable PaymentMethod en dos booleanas\n",
    "#para ver que categorias genero, previamente analizo la tasa de churn para cada una\n",
    "pd.crosstab(churn_df.PaymentMethod, churn_df.Churn),pd.crosstab(churn_df.PaymentMethod, churn_df.Churn).apply(lambda r: r/r.sum(), axis=1)\n"
   ]
  },
  {
   "cell_type": "code",
   "execution_count": 19,
   "metadata": {
    "colab": {},
    "colab_type": "code",
    "id": "x3pGJddmd4Yh"
   },
   "outputs": [],
   "source": [
    "#las categorias que mejor discriminan el churn seran las creadas\n",
    "\n",
    "churn_df['BanktransferPay']  = np.where(churn_df['PaymentMethod']=='Bank transfer (automatic)',1,0)\n",
    "churn_df['CreditcardPay']  = np.where(churn_df['PaymentMethod']=='Credit card (automatic)',1,0)\n",
    "churn_df['MailedcheckPay']  = np.where(churn_df['PaymentMethod']=='Mailed check',1,0)"
   ]
  },
  {
   "cell_type": "code",
   "execution_count": 20,
   "metadata": {
    "colab": {},
    "colab_type": "code",
    "id": "vu-kL-FLgxCM"
   },
   "outputs": [],
   "source": [
    "churn_df['Cant_productos'] = churn_df['PhoneService'] + (1-churn_df['NoInternetService'])\n",
    "churn_df['Cant_productos_internet'] = churn_df['OnlineSecurity'] + churn_df['OnlineBackup'] + \\\n",
    "                                      churn_df['DeviceProtection'] + churn_df['TechSupport'] + \\\n",
    "                                      churn_df['StreamingTV'] + churn_df['StreamingMovies'] \n",
    "churn_df['monthly_sobre_total'] = churn_df['MonthlyCharges'] / churn_df['TotalCharges']"
   ]
  },
  {
   "cell_type": "code",
   "execution_count": 21,
   "metadata": {
    "colab": {},
    "colab_type": "code",
    "id": "O8cvQGNAgxCO",
    "scrolled": true
   },
   "outputs": [],
   "source": [
    "from sklearn.model_selection import train_test_split\n",
    "from sklearn.metrics import accuracy_score\n",
    "import lightgbm as lgb\n",
    "\n",
    "\n",
    "X_train, X_test, y_train, y_test = train_test_split(churn_df.drop(['customerID','Churn'],axis=1), churn_df[['Churn']], \n",
    "                                                    test_size=0.33, random_state=42)\n"
   ]
  },
  {
   "cell_type": "code",
   "execution_count": 22,
   "metadata": {
    "colab": {},
    "colab_type": "code",
    "id": "u3BtUhmJgxCQ"
   },
   "outputs": [],
   "source": [
    "#Normalizando variables continuas\n",
    "from sklearn import preprocessing\n",
    "\n",
    "x = X_train['tenure'].values.reshape(-1, 1) #returns a numpy array\n",
    "std_scaler_tenure = preprocessing.StandardScaler()\n",
    "x_scaled = std_scaler_tenure.fit_transform(x)\n",
    "X_train['tenure_n'] = x_scaled\n",
    "\n",
    "x = X_train['MonthlyCharges'].values.reshape(-1, 1) #returns a numpy array\n",
    "std_scaler_MonthlyCharges = preprocessing.StandardScaler()\n",
    "x_scaled = std_scaler_MonthlyCharges.fit_transform(x)\n",
    "X_train['MonthlyCharges_n'] = x_scaled\n",
    "\n",
    "x = X_train['TotalCharges'].values.reshape(-1, 1) #returns a numpy array\n",
    "std_scaler_TotalCharges = preprocessing.StandardScaler()\n",
    "x_scaled = std_scaler_TotalCharges.fit_transform(x)\n",
    "X_train['TotalCharges_n'] = x_scaled\n",
    "\n",
    "x = X_train['monthly_sobre_total'].values.reshape(-1, 1) #returns a numpy array\n",
    "std_scaler_monthly_sobre_total = preprocessing.StandardScaler()\n",
    "x_scaled = std_scaler_monthly_sobre_total.fit_transform(x)\n",
    "X_train['monthly_sobre_total_n'] = x_scaled\n",
    "\n",
    "x = X_test['tenure'].values.reshape(-1, 1) #returns a numpy array\n",
    "x_scaled = std_scaler_tenure.transform(x)\n",
    "X_test['tenure_n'] = x_scaled\n",
    "\n",
    "x = X_test['MonthlyCharges'].values.reshape(-1, 1) #returns a numpy array\n",
    "x_scaled = std_scaler_MonthlyCharges.transform(x)\n",
    "X_test['MonthlyCharges_n'] = x_scaled\n",
    "\n",
    "x = X_test['TotalCharges'].values.reshape(-1, 1) #returns a numpy array\n",
    "x_scaled = std_scaler_TotalCharges.transform(x)\n",
    "X_test['TotalCharges_n'] = x_scaled\n",
    "\n",
    "x = X_test['monthly_sobre_total'].values.reshape(-1, 1) #returns a numpy array\n",
    "x_scaled = std_scaler_monthly_sobre_total.transform(x)\n",
    "X_test['monthly_sobre_total_n'] = x_scaled\n",
    " "
   ]
  },
  {
   "cell_type": "code",
   "execution_count": 23,
   "metadata": {
    "colab": {},
    "colab_type": "code",
    "id": "cz8d-NAId4Yp"
   },
   "outputs": [],
   "source": [
    "X_train = X_train.drop(['tenure', 'MonthlyCharges', 'TotalCharges','InternetService','Contract','PaymentMethod'], axis=1)\n",
    "X_test = X_test.drop(['tenure', 'MonthlyCharges', 'TotalCharges','InternetService','Contract','PaymentMethod'], axis=1)"
   ]
  },
  {
   "cell_type": "code",
   "execution_count": 24,
   "metadata": {
    "colab": {
     "base_uri": "https://localhost:8080/",
     "height": 1000
    },
    "colab_type": "code",
    "id": "F1mcACoggxCU",
    "outputId": "07b416bf-ae6e-4c8f-b1c0-f76858aa2ebf"
   },
   "outputs": [
    {
     "data": {
      "text/plain": [
       "<matplotlib.axes._subplots.AxesSubplot at 0x1ff7392a908>"
      ]
     },
     "execution_count": 24,
     "metadata": {},
     "output_type": "execute_result"
    },
    {
     "data": {
      "image/png": "[encoded data removed]",
      "text/plain": [
       "<Figure size 432x288 with 1 Axes>"
      ]
     },
     "metadata": {
      "needs_background": "light"
     },
     "output_type": "display_data"
    },
    {
     "data": {
      "image/png": "[encoded data removed]",
      "text/plain": [
       "<Figure size 432x288 with 1 Axes>"
      ]
     },
     "metadata": {
      "needs_background": "light"
     },
     "output_type": "display_data"
    },
    {
     "data": {
      "image/png": "[encoded data removed]",
      "text/plain": [
       "<Figure size 432x288 with 1 Axes>"
      ]
     },
     "metadata": {
      "needs_background": "light"
     },
     "output_type": "display_data"
    },
    {
     "data": {
      "image/png": "[encoded data removed]",
      "text/plain": [
       "<Figure size 432x288 with 1 Axes>"
      ]
     },
     "metadata": {
      "needs_background": "light"
     },
     "output_type": "display_data"
    },
    {
     "data": {
      "image/png": "[encoded data removed]",
      "text/plain": [
       "<Figure size 432x288 with 1 Axes>"
      ]
     },
     "metadata": {
      "needs_background": "light"
     },
     "output_type": "display_data"
    },
    {
     "data": {
      "image/png": "[encoded data removed]",
      "text/plain": [
       "<Figure size 432x288 with 1 Axes>"
      ]
     },
     "metadata": {
      "needs_background": "light"
     },
     "output_type": "display_data"
    },
    {
     "data": {
      "image/png": "[encoded data removed]",
      "text/plain": [
       "<Figure size 432x288 with 1 Axes>"
      ]
     },
     "metadata": {
      "needs_background": "light"
     },
     "output_type": "display_data"
    },
    {
     "data": {
      "image/png": "[encoded data removed]",
      "text/plain": [
       "<Figure size 432x288 with 1 Axes>"
      ]
     },
     "metadata": {
      "needs_background": "light"
     },
     "output_type": "display_data"
    },
    {
     "data": {
      "image/png": "[encoded data removed]",
      "text/plain": [
       "<Figure size 432x288 with 1 Axes>"
      ]
     },
     "metadata": {
      "needs_background": "light"
     },
     "output_type": "display_data"
    },
    {
     "data": {
      "image/png": "[encoded data removed]",
      "text/plain": [
       "<Figure size 432x288 with 1 Axes>"
      ]
     },
     "metadata": {
      "needs_background": "light"
     },
     "output_type": "display_data"
    },
    {
     "data": {
      "image/png": "[encoded data removed]",
      "text/plain": [
       "<Figure size 432x288 with 1 Axes>"
      ]
     },
     "metadata": {
      "needs_background": "light"
     },
     "output_type": "display_data"
    },
    {
     "data": {
      "image/png": "[encoded data removed]",
      "text/plain": [
       "<Figure size 432x288 with 1 Axes>"
      ]
     },
     "metadata": {
      "needs_background": "light"
     },
     "output_type": "display_data"
    },
    {
     "data": {
      "image/png": "[encoded data removed]",
      "text/plain": [
       "<Figure size 432x288 with 1 Axes>"
      ]
     },
     "metadata": {
      "needs_background": "light"
     },
     "output_type": "display_data"
    },
    {
     "data": {
      "image/png": "[encoded data removed]",
      "text/plain": [
       "<Figure size 432x288 with 1 Axes>"
      ]
     },
     "metadata": {
      "needs_background": "light"
     },
     "output_type": "display_data"
    },
    {
     "data": {
      "image/png": "[encoded data removed]",
      "text/plain": [
       "<Figure size 432x288 with 1 Axes>"
      ]
     },
     "metadata": {
      "needs_background": "light"
     },
     "output_type": "display_data"
    },
    {
     "data": {
      "image/png": "[encoded data removed]",
      "text/plain": [
       "<Figure size 432x288 with 1 Axes>"
      ]
     },
     "metadata": {
      "needs_background": "light"
     },
     "output_type": "display_data"
    }
   ],
   "source": [
    "#Analisis bivariado\n",
    "df_original = X_train.copy()\n",
    "df_original['Churn'] = y_train.copy()\n",
    "df_original.groupby(['gender','Churn']).size().unstack().plot(kind='bar',stacked=False,color='g' 'c')\n",
    "df_original.groupby(['SeniorCitizen','Churn']).size().unstack().plot(kind='bar',stacked=False,color='g' 'c')\n",
    "df_original.groupby(['Partner','Churn']).size().unstack().plot(kind='bar',stacked=False,color='g' 'c')\n",
    "df_original.groupby(['Dependents','Churn']).size().unstack().plot(kind='bar',stacked=False,color='g' 'c')\n",
    "df_original.groupby(['PhoneService','Churn']).size().unstack().plot(kind='bar',stacked=False,color='g' 'c')\n",
    "df_original.groupby(['MultipleLines','Churn']).size().unstack().plot(kind='bar',stacked=False,color='g' 'c')\n",
    "df_original.groupby(['OnlineSecurity','Churn']).size().unstack().plot(kind='bar',stacked=False,color='g' 'c')\n",
    "df_original.groupby(['OnlineBackup','Churn']).size().unstack().plot(kind='bar',stacked=False,color='g' 'c')\n",
    "df_original.groupby(['DeviceProtection','Churn']).size().unstack().plot(kind='bar',stacked=False,color='g' 'c')\n",
    "df_original.groupby(['TechSupport','Churn']).size().unstack().plot(kind='bar',stacked=False,color='g' 'c')\n",
    "df_original.groupby(['StreamingMovies','Churn']).size().unstack().plot(kind='bar',stacked=False,color='g' 'c')\n",
    "df_original.groupby(['PaperlessBilling','Churn']).size().unstack().plot(kind='bar',stacked=False,color='g' 'c')\n",
    "#df_original.groupby(['Contract','Churn']).size().unstack().plot(kind='bar',stacked=False,color='g' 'c')\n",
    "#df_original.groupby(['PaymentMethod','Churn']).size().unstack().plot(kind='bar',stacked=False,color='g' 'c')\n",
    " \n",
    "df_original.groupby(['tenure_d','Churn']).size().unstack().plot(kind='bar',stacked=False,color='g' 'c')\n",
    "df_original.groupby(['MonthlyCharges_d','Churn']).size().unstack().plot(kind='bar',stacked=False,color='g' 'c')\n",
    "df_original.groupby(['TotalCharges_d','Churn']).size().unstack().plot(kind='bar',stacked=False,color='g' 'c')\n",
    " \n",
    "#df.groupby(['Cant_productos','Churn']).size().unstack().plot(kind='bar',stacked=False,color='g' 'c')\n",
    "df_original.groupby(['Cant_productos_internet','Churn']).size().unstack().plot(kind='bar',stacked=False,color='g' 'c')\n",
    "#df_original.groupby(['combo','Churn']).size().unstack().plot(kind='bar',stacked=False,color='g' 'c')"
   ]
  },
  {
   "cell_type": "code",
   "execution_count": 25,
   "metadata": {
    "colab": {},
    "colab_type": "code",
    "id": "v7JdY4f9jVRp"
   },
   "outputs": [],
   "source": [
    "# df_original.to_csv('churn3.csv')"
   ]
  },
  {
   "cell_type": "code",
   "execution_count": 26,
   "metadata": {
    "colab": {
     "base_uri": "https://localhost:8080/",
     "height": 408
    },
    "colab_type": "code",
    "id": "pcT-4AYTv8O1",
    "outputId": "f9c02a0c-095a-434d-f45b-393811bd3143"
   },
   "outputs": [
    {
     "data": {
      "text/plain": [
       "(Churn       0    1\n",
       " tenure_d          \n",
       " 0         221  330\n",
       " 1         239  202\n",
       " 2         315  176\n",
       " 3         305  136\n",
       " 4         364  106\n",
       " 5         370  109\n",
       " 6         354   70\n",
       " 7         388   68\n",
       " 8         464   47\n",
       " 9         432   15,\n",
       " Churn            0         1\n",
       " tenure_d                    \n",
       " 0         0.401089  0.598911\n",
       " 1         0.541950  0.458050\n",
       " 2         0.641548  0.358452\n",
       " 3         0.691610  0.308390\n",
       " 4         0.774468  0.225532\n",
       " 5         0.772443  0.227557\n",
       " 6         0.834906  0.165094\n",
       " 7         0.850877  0.149123\n",
       " 8         0.908023  0.091977\n",
       " 9         0.966443  0.033557)"
      ]
     },
     "execution_count": 26,
     "metadata": {},
     "output_type": "execute_result"
    }
   ],
   "source": [
    "#armo las tablas para calcular los woe (ln(event/noevent))\n",
    "#df_original.groupby(['tenure_d','Churn']).size().reset_index()\n",
    "pd.crosstab(df_original.tenure_d, df_original.Churn),pd.crosstab(df_original.tenure_d, churn_df.Churn).apply(lambda r: r/r.sum(), axis=1)\n"
   ]
  },
  {
   "cell_type": "code",
   "execution_count": 27,
   "metadata": {
    "colab": {
     "base_uri": "https://localhost:8080/",
     "height": 408
    },
    "colab_type": "code",
    "id": "FvIIgPshzyNU",
    "outputId": "665d4b2a-ade8-4a16-bd1f-4dc10a3e5649"
   },
   "outputs": [
    {
     "data": {
      "text/plain": [
       "(Churn               0    1\n",
       " MonthlyCharges_d          \n",
       " 0                 438   40\n",
       " 1                 426   49\n",
       " 2                 354  114\n",
       " 3                 360  114\n",
       " 4                 375   96\n",
       " 5                 287  185\n",
       " 6                 278  179\n",
       " 7                 313  168\n",
       " 8                 264  205\n",
       " 9                 357  109,\n",
       " Churn                    0         1\n",
       " MonthlyCharges_d                    \n",
       " 0                 0.916318  0.083682\n",
       " 1                 0.896842  0.103158\n",
       " 2                 0.756410  0.243590\n",
       " 3                 0.759494  0.240506\n",
       " 4                 0.796178  0.203822\n",
       " 5                 0.608051  0.391949\n",
       " 6                 0.608315  0.391685\n",
       " 7                 0.650728  0.349272\n",
       " 8                 0.562900  0.437100\n",
       " 9                 0.766094  0.233906)"
      ]
     },
     "execution_count": 27,
     "metadata": {},
     "output_type": "execute_result"
    }
   ],
   "source": [
    "#armo las tablas para calcular los woe (ln(event/noevent))\n",
    "#df_original.groupby(['MonthlyCharges_d','Churn']).size().reset_index()\n",
    "pd.crosstab(df_original.MonthlyCharges_d, \n",
    "            df_original.Churn),\n",
    "pd.crosstab(df_original.MonthlyCharges_d, \n",
    "            churn_df.Churn).apply(lambda r: r/r.sum(), axis=1)\n"
   ]
  },
  {
   "cell_type": "code",
   "execution_count": 28,
   "metadata": {
    "colab": {
     "base_uri": "https://localhost:8080/",
     "height": 408
    },
    "colab_type": "code",
    "id": "dzqF4ErBz02b",
    "outputId": "af86be7f-7f40-4d24-9d0c-78e75c5f54ee"
   },
   "outputs": [
    {
     "data": {
      "text/plain": [
       "(Churn             0    1\n",
       " TotalCharges_d          \n",
       " 0               226  237\n",
       " 1               285  197\n",
       " 2               323  152\n",
       " 3               344  124\n",
       " 4               376  106\n",
       " 5               372   91\n",
       " 6               350  134\n",
       " 7               382   82\n",
       " 8               382   77\n",
       " 9               412   59,\n",
       " Churn                  0         1\n",
       " TotalCharges_d                    \n",
       " 0               0.488121  0.511879\n",
       " 1               0.591286  0.408714\n",
       " 2               0.680000  0.320000\n",
       " 3               0.735043  0.264957\n",
       " 4               0.780083  0.219917\n",
       " 5               0.803456  0.196544\n",
       " 6               0.723140  0.276860\n",
       " 7               0.823276  0.176724\n",
       " 8               0.832244  0.167756\n",
       " 9               0.874735  0.125265)"
      ]
     },
     "execution_count": 28,
     "metadata": {},
     "output_type": "execute_result"
    }
   ],
   "source": [
    "#armo las tablas para calcular los woe (ln(event/noevent))\n",
    "#df_original.groupby(['TotalCharges_d','Churn']).size().reset_index()\n",
    "pd.crosstab(df_original.TotalCharges_d, df_original.Churn),pd.crosstab(df_original.TotalCharges_d, churn_df.Churn).apply(lambda r: r/r.sum(), axis=1)"
   ]
  },
  {
   "cell_type": "code",
   "execution_count": 29,
   "metadata": {
    "colab": {},
    "colab_type": "code",
    "id": "3m2QCnJjzind"
   },
   "outputs": [],
   "source": [
    "#reagrupo la variable tenure en base al woe\n",
    "conditions1 = [\n",
    "    (df_original['tenure_d'] == 0),\n",
    "    (df_original['tenure_d'] == 1),\n",
    "    (df_original['tenure_d'] == 2),\n",
    "    (df_original['tenure_d'] == 3),\n",
    "    (df_original['tenure_d'] >= 4)  & (df_original['tenure_d'] <= 5),\n",
    "    (df_original['tenure_d'] >= 6) & (df_original['tenure_d'] <= 7),\n",
    "    (df_original['tenure_d'] == 8),\n",
    "    (df_original['tenure_d'] == 9)]\n",
    "choices1 = [0, 1, 2,3,4,5,6,7]\n",
    "df_original['tenure_d2'] = np.select(conditions1, choices1, default=0)"
   ]
  },
  {
   "cell_type": "code",
   "execution_count": 30,
   "metadata": {
    "colab": {
     "base_uri": "https://localhost:8080/",
     "height": 545
    },
    "colab_type": "code",
    "id": "EGZfmTbU3GCt",
    "outputId": "d45b0c31-121c-4904-dce2-8cbd11214cd3"
   },
   "outputs": [
    {
     "data": {
      "text/html": [
       "<div>\n",
       "<style scoped>\n",
       "    .dataframe tbody tr th:only-of-type {\n",
       "        vertical-align: middle;\n",
       "    }\n",
       "\n",
       "    .dataframe tbody tr th {\n",
       "        vertical-align: top;\n",
       "    }\n",
       "\n",
       "    .dataframe thead th {\n",
       "        text-align: right;\n",
       "    }\n",
       "</style>\n",
       "<table border=\"1\" class=\"dataframe\">\n",
       "  <thead>\n",
       "    <tr style=\"text-align: right;\">\n",
       "      <th></th>\n",
       "      <th>tenure_d2</th>\n",
       "      <th>Churn</th>\n",
       "      <th>0</th>\n",
       "    </tr>\n",
       "  </thead>\n",
       "  <tbody>\n",
       "    <tr>\n",
       "      <th>0</th>\n",
       "      <td>0</td>\n",
       "      <td>0</td>\n",
       "      <td>221</td>\n",
       "    </tr>\n",
       "    <tr>\n",
       "      <th>1</th>\n",
       "      <td>0</td>\n",
       "      <td>1</td>\n",
       "      <td>330</td>\n",
       "    </tr>\n",
       "    <tr>\n",
       "      <th>2</th>\n",
       "      <td>1</td>\n",
       "      <td>0</td>\n",
       "      <td>239</td>\n",
       "    </tr>\n",
       "    <tr>\n",
       "      <th>3</th>\n",
       "      <td>1</td>\n",
       "      <td>1</td>\n",
       "      <td>202</td>\n",
       "    </tr>\n",
       "    <tr>\n",
       "      <th>4</th>\n",
       "      <td>2</td>\n",
       "      <td>0</td>\n",
       "      <td>315</td>\n",
       "    </tr>\n",
       "    <tr>\n",
       "      <th>5</th>\n",
       "      <td>2</td>\n",
       "      <td>1</td>\n",
       "      <td>176</td>\n",
       "    </tr>\n",
       "    <tr>\n",
       "      <th>6</th>\n",
       "      <td>3</td>\n",
       "      <td>0</td>\n",
       "      <td>305</td>\n",
       "    </tr>\n",
       "    <tr>\n",
       "      <th>7</th>\n",
       "      <td>3</td>\n",
       "      <td>1</td>\n",
       "      <td>136</td>\n",
       "    </tr>\n",
       "    <tr>\n",
       "      <th>8</th>\n",
       "      <td>4</td>\n",
       "      <td>0</td>\n",
       "      <td>734</td>\n",
       "    </tr>\n",
       "    <tr>\n",
       "      <th>9</th>\n",
       "      <td>4</td>\n",
       "      <td>1</td>\n",
       "      <td>215</td>\n",
       "    </tr>\n",
       "    <tr>\n",
       "      <th>10</th>\n",
       "      <td>5</td>\n",
       "      <td>0</td>\n",
       "      <td>742</td>\n",
       "    </tr>\n",
       "    <tr>\n",
       "      <th>11</th>\n",
       "      <td>5</td>\n",
       "      <td>1</td>\n",
       "      <td>138</td>\n",
       "    </tr>\n",
       "    <tr>\n",
       "      <th>12</th>\n",
       "      <td>6</td>\n",
       "      <td>0</td>\n",
       "      <td>464</td>\n",
       "    </tr>\n",
       "    <tr>\n",
       "      <th>13</th>\n",
       "      <td>6</td>\n",
       "      <td>1</td>\n",
       "      <td>47</td>\n",
       "    </tr>\n",
       "    <tr>\n",
       "      <th>14</th>\n",
       "      <td>7</td>\n",
       "      <td>0</td>\n",
       "      <td>432</td>\n",
       "    </tr>\n",
       "    <tr>\n",
       "      <th>15</th>\n",
       "      <td>7</td>\n",
       "      <td>1</td>\n",
       "      <td>15</td>\n",
       "    </tr>\n",
       "  </tbody>\n",
       "</table>\n",
       "</div>"
      ],
      "text/plain": [
       "    tenure_d2  Churn    0\n",
       "0           0      0  221\n",
       "1           0      1  330\n",
       "2           1      0  239\n",
       "3           1      1  202\n",
       "4           2      0  315\n",
       "5           2      1  176\n",
       "6           3      0  305\n",
       "7           3      1  136\n",
       "8           4      0  734\n",
       "9           4      1  215\n",
       "10          5      0  742\n",
       "11          5      1  138\n",
       "12          6      0  464\n",
       "13          6      1   47\n",
       "14          7      0  432\n",
       "15          7      1   15"
      ]
     },
     "execution_count": 30,
     "metadata": {},
     "output_type": "execute_result"
    }
   ],
   "source": [
    "#armo las tablas para calcular los woe (ln(event/noevent))\n",
    "df_original.groupby(['tenure_d2','Churn']).size().reset_index()"
   ]
  },
  {
   "cell_type": "code",
   "execution_count": 31,
   "metadata": {
    "colab": {},
    "colab_type": "code",
    "id": "ppWcBiVZ0Gx3"
   },
   "outputs": [],
   "source": [
    "#reagrupo la variable TotalCharges_d en base al woe\n",
    "conditions2 = [\n",
    "    (df_original['TotalCharges_d'] == 0),\n",
    "    (df_original['TotalCharges_d'] == 1),\n",
    "    (df_original['TotalCharges_d'] == 2),\n",
    "    (df_original['TotalCharges_d'] == 3),\n",
    "    (df_original['TotalCharges_d'] >= 4)  & (df_original['TotalCharges_d'] <= 5),\n",
    "    (df_original['TotalCharges_d'] == 6),\n",
    "    (df_original['TotalCharges_d'] >= 7) & (df_original['TotalCharges_d'] <= 8),\n",
    "    (df_original['TotalCharges_d'] == 9)]\n",
    "choices2 = [0, 1, 2,3,4,5,6,7]\n",
    "df_original['TotalCharges_d2'] = np.select(conditions2, choices2, default=0)"
   ]
  },
  {
   "cell_type": "code",
   "execution_count": 32,
   "metadata": {
    "colab": {
     "base_uri": "https://localhost:8080/",
     "height": 545
    },
    "colab_type": "code",
    "id": "KQsXQvGE3HBN",
    "outputId": "459658a0-9615-4ba2-efcf-44a6329df4e7"
   },
   "outputs": [
    {
     "data": {
      "text/html": [
       "<div>\n",
       "<style scoped>\n",
       "    .dataframe tbody tr th:only-of-type {\n",
       "        vertical-align: middle;\n",
       "    }\n",
       "\n",
       "    .dataframe tbody tr th {\n",
       "        vertical-align: top;\n",
       "    }\n",
       "\n",
       "    .dataframe thead th {\n",
       "        text-align: right;\n",
       "    }\n",
       "</style>\n",
       "<table border=\"1\" class=\"dataframe\">\n",
       "  <thead>\n",
       "    <tr style=\"text-align: right;\">\n",
       "      <th></th>\n",
       "      <th>TotalCharges_d2</th>\n",
       "      <th>Churn</th>\n",
       "      <th>0</th>\n",
       "    </tr>\n",
       "  </thead>\n",
       "  <tbody>\n",
       "    <tr>\n",
       "      <th>0</th>\n",
       "      <td>0</td>\n",
       "      <td>0</td>\n",
       "      <td>226</td>\n",
       "    </tr>\n",
       "    <tr>\n",
       "      <th>1</th>\n",
       "      <td>0</td>\n",
       "      <td>1</td>\n",
       "      <td>237</td>\n",
       "    </tr>\n",
       "    <tr>\n",
       "      <th>2</th>\n",
       "      <td>1</td>\n",
       "      <td>0</td>\n",
       "      <td>285</td>\n",
       "    </tr>\n",
       "    <tr>\n",
       "      <th>3</th>\n",
       "      <td>1</td>\n",
       "      <td>1</td>\n",
       "      <td>197</td>\n",
       "    </tr>\n",
       "    <tr>\n",
       "      <th>4</th>\n",
       "      <td>2</td>\n",
       "      <td>0</td>\n",
       "      <td>323</td>\n",
       "    </tr>\n",
       "    <tr>\n",
       "      <th>5</th>\n",
       "      <td>2</td>\n",
       "      <td>1</td>\n",
       "      <td>152</td>\n",
       "    </tr>\n",
       "    <tr>\n",
       "      <th>6</th>\n",
       "      <td>3</td>\n",
       "      <td>0</td>\n",
       "      <td>344</td>\n",
       "    </tr>\n",
       "    <tr>\n",
       "      <th>7</th>\n",
       "      <td>3</td>\n",
       "      <td>1</td>\n",
       "      <td>124</td>\n",
       "    </tr>\n",
       "    <tr>\n",
       "      <th>8</th>\n",
       "      <td>4</td>\n",
       "      <td>0</td>\n",
       "      <td>748</td>\n",
       "    </tr>\n",
       "    <tr>\n",
       "      <th>9</th>\n",
       "      <td>4</td>\n",
       "      <td>1</td>\n",
       "      <td>197</td>\n",
       "    </tr>\n",
       "    <tr>\n",
       "      <th>10</th>\n",
       "      <td>5</td>\n",
       "      <td>0</td>\n",
       "      <td>350</td>\n",
       "    </tr>\n",
       "    <tr>\n",
       "      <th>11</th>\n",
       "      <td>5</td>\n",
       "      <td>1</td>\n",
       "      <td>134</td>\n",
       "    </tr>\n",
       "    <tr>\n",
       "      <th>12</th>\n",
       "      <td>6</td>\n",
       "      <td>0</td>\n",
       "      <td>764</td>\n",
       "    </tr>\n",
       "    <tr>\n",
       "      <th>13</th>\n",
       "      <td>6</td>\n",
       "      <td>1</td>\n",
       "      <td>159</td>\n",
       "    </tr>\n",
       "    <tr>\n",
       "      <th>14</th>\n",
       "      <td>7</td>\n",
       "      <td>0</td>\n",
       "      <td>412</td>\n",
       "    </tr>\n",
       "    <tr>\n",
       "      <th>15</th>\n",
       "      <td>7</td>\n",
       "      <td>1</td>\n",
       "      <td>59</td>\n",
       "    </tr>\n",
       "  </tbody>\n",
       "</table>\n",
       "</div>"
      ],
      "text/plain": [
       "    TotalCharges_d2  Churn    0\n",
       "0                 0      0  226\n",
       "1                 0      1  237\n",
       "2                 1      0  285\n",
       "3                 1      1  197\n",
       "4                 2      0  323\n",
       "5                 2      1  152\n",
       "6                 3      0  344\n",
       "7                 3      1  124\n",
       "8                 4      0  748\n",
       "9                 4      1  197\n",
       "10                5      0  350\n",
       "11                5      1  134\n",
       "12                6      0  764\n",
       "13                6      1  159\n",
       "14                7      0  412\n",
       "15                7      1   59"
      ]
     },
     "execution_count": 32,
     "metadata": {},
     "output_type": "execute_result"
    }
   ],
   "source": [
    "#armo las tablas para calcular los woe (ln(event/noevent))\n",
    "df_original.groupby(['TotalCharges_d2','Churn']).size().reset_index()"
   ]
  },
  {
   "cell_type": "code",
   "execution_count": 33,
   "metadata": {
    "colab": {
     "base_uri": "https://localhost:8080/",
     "height": 255
    },
    "colab_type": "code",
    "id": "PHIo-x1b1Be9",
    "outputId": "ca1826bf-7bb3-43e8-c474-cdf6622f261d"
   },
   "outputs": [
    {
     "name": "stdout",
     "output_type": "stream",
     "text": [
      "      gender  SeniorCitizen  Partner  Dependents  PhoneService  MultipleLines  \\\n",
      "5758       1              0        1           0             1              0   \n",
      "5352       1              0        0           1             1              0   \n",
      "5736       1              0        1           1             1              1   \n",
      "6056       0              0        0           0             1              1   \n",
      "229        1              0        1           1             1              1   \n",
      "...      ...            ...      ...         ...           ...            ...   \n",
      "3772       0              0        0           0             1              1   \n",
      "5191       1              0        0           0             1              1   \n",
      "5226       0              0        0           0             1              1   \n",
      "5390       1              0        0           0             1              0   \n",
      "860        0              1        1           0             1              0   \n",
      "\n",
      "      OnlineSecurity  OnlineBackup  DeviceProtection  TechSupport  ...  \\\n",
      "5758               0             0                 0            1  ...   \n",
      "5352               0             0                 0            0  ...   \n",
      "5736               0             0                 0            0  ...   \n",
      "6056               0             0                 0            0  ...   \n",
      "229                1             1                 0            1  ...   \n",
      "...              ...           ...               ...          ...  ...   \n",
      "3772               0             0                 0            0  ...   \n",
      "5191               0             1                 1            1  ...   \n",
      "5226               1             0                 0            0  ...   \n",
      "5390               0             0                 0            0  ...   \n",
      "860                0             1                 0            0  ...   \n",
      "\n",
      "      Cant_productos_internet  monthly_sobre_total  tenure_n  \\\n",
      "5758                        2             0.015703  1.325456   \n",
      "5352                        0             0.240708 -1.152524   \n",
      "5736                        0             0.016745  1.162966   \n",
      "6056                        0             0.016551  1.081721   \n",
      "229                         5             0.020768  0.594249   \n",
      "...                       ...                  ...       ...   \n",
      "3772                        0             0.367213 -1.193146   \n",
      "5191                        5             0.019550  0.756740   \n",
      "5226                        1             0.103448 -0.949410   \n",
      "5390                        0             0.019969  0.716117   \n",
      "860                         1             0.050325 -0.502562   \n",
      "\n",
      "      MonthlyCharges_n  TotalCharges_n  monthly_sobre_total_n  Churn  \\\n",
      "5758         -0.161316        0.679395              -0.504526      0   \n",
      "5352         -1.469930       -0.967341               0.308672      0   \n",
      "5736         -1.343719       -0.365667              -0.500760      0   \n",
      "6056         -1.317148       -0.336787              -0.501462      0   \n",
      "229           0.685630        0.811653              -0.486220      0   \n",
      "...                ...             ...                    ...    ...   \n",
      "3772         -0.473523       -0.944122               0.765878      0   \n",
      "5191          1.555826        1.517501              -0.490622      0   \n",
      "5226          0.547794       -0.657891              -0.187403      0   \n",
      "5390         -1.491519       -0.567404              -0.489109      0   \n",
      "860           0.298692       -0.357574              -0.379399      1   \n",
      "\n",
      "      tenure_d2  TotalCharges_d2  MonthlyCharges_d2  \n",
      "5758          6                6                  1  \n",
      "5352          1                1                  0  \n",
      "5736          6                4                  0  \n",
      "6056          5                4                  0  \n",
      "229           5                6                  2  \n",
      "...         ...              ...                ...  \n",
      "3772          1                1                  1  \n",
      "5191          5                6                  1  \n",
      "5226          2                3                  2  \n",
      "5390          5                4                  0  \n",
      "860           3                4                  2  \n",
      "\n",
      "[4711 rows x 34 columns]\n"
     ]
    }
   ],
   "source": [
    "#reagrupo la variable MonthlyCharges_d en base al woe\n",
    "conditions3 = [\n",
    "    (df_original['MonthlyCharges_d'] <2),\n",
    "    (df_original['MonthlyCharges_d'] >= 2) & (df_original['MonthlyCharges_d'] <5 ),\n",
    "    (df_original['MonthlyCharges_d'] >= 5) & (df_original['MonthlyCharges_d'] <9 ),\n",
    "    (df_original['MonthlyCharges_d'] == 9)                                        ]\n",
    "choices3 = [0, 1, 2,1]\n",
    "df_original['MonthlyCharges_d2'] = np.select(conditions3, choices3, default=0)\n",
    "print(df_original)"
   ]
  },
  {
   "cell_type": "code",
   "execution_count": 34,
   "metadata": {
    "colab": {
     "base_uri": "https://localhost:8080/",
     "height": 235
    },
    "colab_type": "code",
    "id": "m0mc_Gs52mKA",
    "outputId": "8277947a-b352-4187-960a-ed5d7149f575"
   },
   "outputs": [
    {
     "data": {
      "text/html": [
       "<div>\n",
       "<style scoped>\n",
       "    .dataframe tbody tr th:only-of-type {\n",
       "        vertical-align: middle;\n",
       "    }\n",
       "\n",
       "    .dataframe tbody tr th {\n",
       "        vertical-align: top;\n",
       "    }\n",
       "\n",
       "    .dataframe thead th {\n",
       "        text-align: right;\n",
       "    }\n",
       "</style>\n",
       "<table border=\"1\" class=\"dataframe\">\n",
       "  <thead>\n",
       "    <tr style=\"text-align: right;\">\n",
       "      <th></th>\n",
       "      <th>MonthlyCharges_d2</th>\n",
       "      <th>Churn</th>\n",
       "      <th>0</th>\n",
       "    </tr>\n",
       "  </thead>\n",
       "  <tbody>\n",
       "    <tr>\n",
       "      <th>0</th>\n",
       "      <td>0</td>\n",
       "      <td>0</td>\n",
       "      <td>864</td>\n",
       "    </tr>\n",
       "    <tr>\n",
       "      <th>1</th>\n",
       "      <td>0</td>\n",
       "      <td>1</td>\n",
       "      <td>89</td>\n",
       "    </tr>\n",
       "    <tr>\n",
       "      <th>2</th>\n",
       "      <td>1</td>\n",
       "      <td>0</td>\n",
       "      <td>1446</td>\n",
       "    </tr>\n",
       "    <tr>\n",
       "      <th>3</th>\n",
       "      <td>1</td>\n",
       "      <td>1</td>\n",
       "      <td>433</td>\n",
       "    </tr>\n",
       "    <tr>\n",
       "      <th>4</th>\n",
       "      <td>2</td>\n",
       "      <td>0</td>\n",
       "      <td>1142</td>\n",
       "    </tr>\n",
       "    <tr>\n",
       "      <th>5</th>\n",
       "      <td>2</td>\n",
       "      <td>1</td>\n",
       "      <td>737</td>\n",
       "    </tr>\n",
       "  </tbody>\n",
       "</table>\n",
       "</div>"
      ],
      "text/plain": [
       "   MonthlyCharges_d2  Churn     0\n",
       "0                  0      0   864\n",
       "1                  0      1    89\n",
       "2                  1      0  1446\n",
       "3                  1      1   433\n",
       "4                  2      0  1142\n",
       "5                  2      1   737"
      ]
     },
     "execution_count": 34,
     "metadata": {},
     "output_type": "execute_result"
    }
   ],
   "source": [
    "#armo las tablas para calcular los woe (ln(event/noevent))\n",
    "df_original.groupby(['MonthlyCharges_d2','Churn']).size().reset_index()"
   ]
  },
  {
   "cell_type": "code",
   "execution_count": 35,
   "metadata": {
    "colab": {},
    "colab_type": "code",
    "id": "QOuW7rYi-Cp7"
   },
   "outputs": [],
   "source": [
    "df_original = pd.get_dummies(df_original, columns=['MonthlyCharges_d2'])"
   ]
  },
  {
   "cell_type": "code",
   "execution_count": 36,
   "metadata": {
    "colab": {},
    "colab_type": "code",
    "id": "XnMqQYO0AoC1"
   },
   "outputs": [],
   "source": [
    "df_original = pd.get_dummies(df_original, columns=['TotalCharges_d2'])"
   ]
  },
  {
   "cell_type": "code",
   "execution_count": 37,
   "metadata": {
    "colab": {},
    "colab_type": "code",
    "id": "tpt780JZAuTT"
   },
   "outputs": [],
   "source": [
    "df_original = pd.get_dummies(df_original, columns=['tenure_d2'])"
   ]
  },
  {
   "cell_type": "code",
   "execution_count": 38,
   "metadata": {
    "colab": {
     "base_uri": "https://localhost:8080/",
     "height": 255
    },
    "colab_type": "code",
    "id": "WQSWiDy9_xB9",
    "outputId": "d1cb957f-9854-4ee1-d9d1-536b73b73a64"
   },
   "outputs": [
    {
     "data": {
      "text/plain": [
       "Index(['gender', 'SeniorCitizen', 'Partner', 'Dependents', 'PhoneService',\n",
       "       'MultipleLines', 'OnlineSecurity', 'OnlineBackup', 'DeviceProtection',\n",
       "       'TechSupport', 'StreamingTV', 'StreamingMovies', 'PaperlessBilling',\n",
       "       'tenure_d', 'MonthlyCharges_d', 'TotalCharges_d', 'DSL',\n",
       "       'NoInternetService', 'OneyearContract', 'TwoyearContract',\n",
       "       'BanktransferPay', 'CreditcardPay', 'MailedcheckPay', 'Cant_productos',\n",
       "       'Cant_productos_internet', 'monthly_sobre_total', 'tenure_n',\n",
       "       'MonthlyCharges_n', 'TotalCharges_n', 'monthly_sobre_total_n', 'Churn',\n",
       "       'MonthlyCharges_d2_0', 'MonthlyCharges_d2_1', 'MonthlyCharges_d2_2',\n",
       "       'TotalCharges_d2_0', 'TotalCharges_d2_1', 'TotalCharges_d2_2',\n",
       "       'TotalCharges_d2_3', 'TotalCharges_d2_4', 'TotalCharges_d2_5',\n",
       "       'TotalCharges_d2_6', 'TotalCharges_d2_7', 'tenure_d2_0', 'tenure_d2_1',\n",
       "       'tenure_d2_2', 'tenure_d2_3', 'tenure_d2_4', 'tenure_d2_5',\n",
       "       'tenure_d2_6', 'tenure_d2_7'],\n",
       "      dtype='object')"
      ]
     },
     "execution_count": 38,
     "metadata": {},
     "output_type": "execute_result"
    }
   ],
   "source": [
    "df_original.columns"
   ]
  },
  {
   "cell_type": "code",
   "execution_count": 39,
   "metadata": {
    "colab": {},
    "colab_type": "code",
    "id": "u_vGDcjmgxCY",
    "outputId": "00fde066-eac3-4880-dbde-e8629f27ba02"
   },
   "outputs": [
    {
     "name": "stdout",
     "output_type": "stream",
     "text": [
      "Accuracy en train 0.83\n",
      "Accuracy en test 0.8\n"
     ]
    },
    {
     "data": {
      "text/plain": [
       "<matplotlib.axes._subplots.AxesSubplot at 0x1ff7372efc8>"
      ]
     },
     "execution_count": 39,
     "metadata": {},
     "output_type": "execute_result"
    },
    {
     "data": {
      "image/png": "[encoded data removed]",
      "text/plain": [
       "<Figure size 432x288 with 1 Axes>"
      ]
     },
     "metadata": {
      "needs_background": "light"
     },
     "output_type": "display_data"
    }
   ],
   "source": [
    "lgb_train = lgb.Dataset(X_train, y_train, free_raw_data=False)\n",
    "lgb_eval = lgb.Dataset(X_test, y_test, free_raw_data=False)\n",
    "\n",
    "params = {\n",
    "    'boosting_type': 'gbdt',\n",
    "    'objective': 'binary',\n",
    "    'metric': 'binary_logloss',\n",
    "    'num_leaves': 15,\n",
    "    'learning_rate': 0.005,\n",
    "    'verbose_eval': -1\n",
    "}\n",
    "num_train, num_feature = X_train.shape\n",
    "# generate feature names\n",
    "feature_name = [str(col) for col in X_train.columns]\n",
    "gbm = lgb.train(params,\n",
    "                lgb_train,\n",
    "                num_boost_round=1000,\n",
    "                valid_sets=lgb_train,  # eval training data\n",
    "                feature_name=feature_name,\n",
    "                verbose_eval=False)\n",
    "\n",
    "y_pred_train = gbm.predict(X_train)\n",
    "y_pred_test = gbm.predict(X_test)\n",
    "\n",
    "print(\"Accuracy en train\", accuracy_score(y_train, y_pred_train.round()).round(2))\n",
    "print(\"Accuracy en test\", accuracy_score(y_test, y_pred_test.round()).round(2))\n",
    "lgb.plot_importance(gbm)"
   ]
  },
  {
   "cell_type": "code",
   "execution_count": 40,
   "metadata": {
    "colab": {},
    "colab_type": "code",
    "id": "ykuRs8_1gxCa",
    "outputId": "a7c8edc8-c349-401e-be88-aac8baf6171b"
   },
   "outputs": [
    {
     "data": {
      "text/plain": [
       "(4711, 30)"
      ]
     },
     "execution_count": 40,
     "metadata": {},
     "output_type": "execute_result"
    }
   ],
   "source": [
    "X_train.shape"
   ]
  },
  {
   "cell_type": "markdown",
   "metadata": {
    "colab_type": "text",
    "id": "pi8hgykTgxCd"
   },
   "source": [
    "Primera capa: input_dim= X_train.shape[0]    30 neuronas\n",
    "Capa oculta:  30 neuronas relu, y otra de 30 neuronas relu dropout\n",
    "Capa de salida: 1 neurona \"binary cross entropy\" y \"softmax\" o \"sigmoidea\"\n",
    "\n",
    "early stopping"
   ]
  },
  {
   "cell_type": "code",
   "execution_count": 59,
   "metadata": {},
   "outputs": [],
   "source": [
    "from keras.models import Sequential\n",
    "from keras.layers import Dense, Dropout\n",
    "\n",
    "network = Sequential() # Instanciamos un modelo secuencial\n",
    "\n",
    "# Añadimos una capa oculta con 30 neuronas, con activación sigmoidea y cuyo input tiene 784 dimensiones\n",
    "network.add(Dense(30, activation='relu', input_dim=X_train.shape[1])) \n",
    "\n",
    "# Añadimos una capa de salida con 10 neuronas, con activación sigmoidea\n",
    "network.add(Dense(1, activation='sigmoid'))\n",
    "\n",
    "network.compile(loss='binary_crossentropy',\n",
    "                metrics=['accuracy'],\n",
    "                optimizer='rmsprop')"
   ]
  },
  {
   "cell_type": "code",
   "execution_count": 60,
   "metadata": {},
   "outputs": [
    {
     "name": "stdout",
     "output_type": "stream",
     "text": [
      "Epoch 1/5\n",
      "4711/4711 [==============================] - 1s 193us/step - loss: 0.5479 - accuracy: 0.7325\n",
      "Epoch 2/5\n",
      "4711/4711 [==============================] - 1s 170us/step - loss: 0.4429 - accuracy: 0.7862\n",
      "Epoch 3/5\n",
      "4711/4711 [==============================] - 1s 150us/step - loss: 0.4292 - accuracy: 0.7945\n",
      "Epoch 4/5\n",
      "4711/4711 [==============================] - 1s 150us/step - loss: 0.4242 - accuracy: 0.7992\n",
      "Epoch 5/5\n",
      "4711/4711 [==============================] - 1s 139us/step - loss: 0.4182 - accuracy: 0.8047\n"
     ]
    },
    {
     "data": {
      "text/plain": [
       "<keras.callbacks.callbacks.History at 0x1ff7ac42b88>"
      ]
     },
     "execution_count": 60,
     "metadata": {},
     "output_type": "execute_result"
    }
   ],
   "source": [
    "network.fit(X_train, y_train,\n",
    "            epochs=5, batch_size=16,\n",
    "            validation_split=10000/X_train.shape[0])"
   ]
  },
  {
   "cell_type": "code",
   "execution_count": 61,
   "metadata": {},
   "outputs": [
    {
     "name": "stdout",
     "output_type": "stream",
     "text": [
      "2321/2321 [==============================] - 0s 67us/step\n",
      "4711/4711 [==============================] - 0s 44us/step\n"
     ]
    }
   ],
   "source": [
    "# evaluate() devuelve los valores de la loss y las métricas definidas en la compilación\n",
    "test_loss, test_acc = network.evaluate(X_test, y_test)\n",
    "train_loss, train_acc = network.evaluate(X_train, y_train)"
   ]
  },
  {
   "cell_type": "code",
   "execution_count": 62,
   "metadata": {
    "colab_type": "text",
    "id": "CbIlQtBCgxCd"
   },
   "outputs": [
    {
     "data": {
      "text/plain": [
       "['loss', 'accuracy']"
      ]
     },
     "execution_count": 62,
     "metadata": {},
     "output_type": "execute_result"
    }
   ],
   "source": [
    "# Llamando al atributo metric_names podemos ver las métricas del modelo, que son el output del método evaluate()\n",
    "network.metrics_names"
   ]
  },
  {
   "cell_type": "code",
   "execution_count": 63,
   "metadata": {},
   "outputs": [
    {
     "name": "stdout",
     "output_type": "stream",
     "text": [
      "train_acc: 0.8070473074913025\n",
      "train_loss: 0.40726751204231343\n",
      "test_acc: 0.7979319095611572\n",
      "test_loss: 0.4204871782785035\n"
     ]
    }
   ],
   "source": [
    "print('train_acc:', train_acc)\n",
    "print('train_loss:', train_loss)\n",
    "print('test_acc:', test_acc)\n",
    "print('test_loss:', test_loss)"
   ]
  }
 ],
 "metadata": {
  "colab": {
   "collapsed_sections": [],
   "name": "desafio1_V4.ipynb",
   "provenance": []
  },
  "kernelspec": {
   "display_name": "Python 3",
   "language": "python",
   "name": "python3"
  },
  "language_info": {
   "codemirror_mode": {
    "name": "ipython",
    "version": 3
   },
   "file_extension": ".py",
   "mimetype": "text/x-python",
   "name": "python",
   "nbconvert_exporter": "python",
   "pygments_lexer": "ipython3",
   "version": "3.7.7"
  }
 },
 "nbformat": 4,
 "nbformat_minor": 1
}
